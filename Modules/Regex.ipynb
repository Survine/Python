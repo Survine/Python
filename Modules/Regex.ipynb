{
 "cells": [
  {
   "cell_type": "code",
   "execution_count": null,
   "metadata": {},
   "outputs": [],
   "source": [
    "import re\n",
    "\n",
    "str = \"hriday18\"\n",
    "\n",
    "# Find all digits\n",
    "digit = re.findall(\"\\d\", str)\n",
    "\n",
    "# Find all word characters (letters, digits, and underscores)\n",
    "word = re.findall(\"\\w\", str)\n",
    "\n",
    "# Find if the string starts with 'hrid' using ^ in findall()\n",
    "match = re.findall(\"^hrid\", str)\n",
    "\n",
    "print(digit)  # Output: ['1', '8']\n",
    "print(word)   # Output: ['h', 'r', 'i', 'd', 'a', 'y','1','8]\n",
    "print(match)  # Output: ['hrid'] if the string starts with 'hrid', else []\n"
   ]
  }
 ],
 "metadata": {
  "language_info": {
   "name": "python"
  }
 },
 "nbformat": 4,
 "nbformat_minor": 2
}
