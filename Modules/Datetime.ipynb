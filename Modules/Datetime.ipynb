{
 "cells": [
  {
   "cell_type": "code",
   "execution_count": 2,
   "metadata": {},
   "outputs": [
    {
     "name": "stdout",
     "output_type": "stream",
     "text": [
      "2024-09-17 11:01:47.410203\n"
     ]
    }
   ],
   "source": [
    "import datetime\n",
    "x = datetime.datetime.now()         #Provides Current date and time\n",
    "print(x)"
   ]
  },
  {
   "cell_type": "code",
   "execution_count": 3,
   "metadata": {},
   "outputs": [
    {
     "name": "stdout",
     "output_type": "stream",
     "text": [
      "2004-12-05 00:00:00\n"
     ]
    }
   ],
   "source": [
    "import datetime\n",
    "x = datetime.datetime(2004,12,5)         #Enter ,manual date in YYYY-MM-DD format\n",
    "print(x)"
   ]
  },
  {
   "cell_type": "code",
   "execution_count": 8,
   "metadata": {},
   "outputs": [
    {
     "name": "stdout",
     "output_type": "stream",
     "text": [
      "Sunday\n"
     ]
    }
   ],
   "source": [
    "import datetime\n",
    "x = datetime.datetime(2004,12,5)        #Enter manual date in YYYY-MM-DD format\n",
    "y = x.strftime(\"%A\")                    #strftime = Return a string representing the date and time                   \n",
    "print(y)"
   ]
  },
  {
   "cell_type": "code",
   "execution_count": 9,
   "metadata": {},
   "outputs": [
    {
     "name": "stdout",
     "output_type": "stream",
     "text": [
      "Sun\n",
      "Sunday\n"
     ]
    }
   ],
   "source": [
    "import datetime\n",
    "x = datetime.datetime(2004,12,5)        #Enter manual date in YYYY-MM-DD format\n",
    "y = x.strftime(\"%a\")                    # \" %a \" gives abbreviated weekday\n",
    "print(y)                                   \n",
    "y = x.strftime(\"%A\")                    # \" %A \" gives full weekday                                    \n",
    "print(y)"
   ]
  },
  {
   "cell_type": "code",
   "execution_count": 14,
   "metadata": {},
   "outputs": [
    {
     "name": "stdout",
     "output_type": "stream",
     "text": [
      "05\n",
      "2004\n"
     ]
    }
   ],
   "source": [
    "import datetime\n",
    "x = datetime.datetime(2004,12,5)        #Enter manual date in YYYY-MM-DD format\n",
    "y = x.strftime(\"%d\")                    # \" %d \" gives decimal format of day\n",
    "print(y)\n",
    "y = x.strftime(\"%Y\")                    # \" %d \" gives decimal format of year  \n",
    "print(y)                                 "
   ]
  },
  {
   "cell_type": "code",
   "execution_count": 11,
   "metadata": {},
   "outputs": [
    {
     "name": "stdout",
     "output_type": "stream",
     "text": [
      "Dec\n",
      "December\n"
     ]
    }
   ],
   "source": [
    "import datetime\n",
    "x = datetime.datetime(2004,12,5)        #Enter manual date in YYYY-MM-DD format\n",
    "y = x.strftime(\"%b\")                    # \" %a \" gives abbreviated month\n",
    "print(y)                                   \n",
    "y = x.strftime(\"%B\")                    # \" %A \" gives full month                                  \n",
    "print(y)"
   ]
  }
 ],
 "metadata": {
  "kernelspec": {
   "display_name": "Python 3",
   "language": "python",
   "name": "python3"
  },
  "language_info": {
   "codemirror_mode": {
    "name": "ipython",
    "version": 3
   },
   "file_extension": ".py",
   "mimetype": "text/x-python",
   "name": "python",
   "nbconvert_exporter": "python",
   "pygments_lexer": "ipython3",
   "version": "3.12.6"
  }
 },
 "nbformat": 4,
 "nbformat_minor": 2
}
